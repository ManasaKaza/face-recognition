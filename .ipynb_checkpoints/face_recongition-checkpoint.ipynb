{
 "cells": [
  {
   "cell_type": "code",
   "execution_count": 1,
   "id": "5ecf8883",
   "metadata": {},
   "outputs": [],
   "source": [
    "import cv2\n",
    "import numpy as np\n",
    "import os \n",
    "import matplotlib.pyplot as plt\n",
    "import streamlit as st"
   ]
  },
  {
   "cell_type": "code",
   "execution_count": 2,
   "id": "17ec75bc",
   "metadata": {},
   "outputs": [],
   "source": [
    "recognizer = cv2.face.LBPHFaceRecognizer_create()\n",
    "recognizer.read('trainer.yml')\n",
    "cascadePath = \"haarcascade_frontalface_default.xml\"\n",
    "faceCascade = cv2.CascadeClassifier(cascadePath);"
   ]
  },
  {
   "cell_type": "code",
   "execution_count": 3,
   "id": "79e68d81",
   "metadata": {},
   "outputs": [],
   "source": [
    "#iniciating counter\n",
    "id = 0"
   ]
  },
  {
   "cell_type": "code",
   "execution_count": 4,
   "id": "9f22262f",
   "metadata": {},
   "outputs": [
    {
     "data": {
      "text/plain": [
       "True"
      ]
     },
     "execution_count": 4,
     "metadata": {},
     "output_type": "execute_result"
    }
   ],
   "source": [
    "# Initializingd start realtime video capture\n",
    "cam = cv2.VideoCapture(0)\n",
    "cam.set(3, 640) # set video widht\n",
    "cam.set(4, 480) # set video height"
   ]
  },
  {
   "cell_type": "code",
   "execution_count": 5,
   "id": "c99bd703",
   "metadata": {},
   "outputs": [],
   "source": [
    "# Define min window size to be recognized as a face\n",
    "minW = 0.1*cam.get(3)\n",
    "minH = 0.1*cam.get(4)"
   ]
  },
  {
   "cell_type": "code",
   "execution_count": 6,
   "id": "f5f0e352",
   "metadata": {},
   "outputs": [],
   "source": [
    "# while True:\n",
    "\n",
    "#     status, img =cam.read()\n",
    "#     gray = cv2.cvtColor(img,cv2.COLOR_BGR2GRAY)\n",
    "#     faces = faceCascade.detectMultiScale( \n",
    "#         gray,\n",
    "#         scaleFactor = 1.2,\n",
    "#         minNeighbors = 5,\n",
    "#         minSize = (int(minW), int(minH)),\n",
    "#        )\n",
    "#     for(x,y,w,h) in faces:\n",
    "\n",
    "#         cv2.rectangle(img, (x,y), (x+w,y+h), (0,255,0), 2)\n",
    "#         id, confidence = recognizer.predict(gray[y:y+h,x:x+w])\n",
    "\n",
    "#         # Check if confidence is less them 100 ==> \"0\" is perfect match \n",
    "#         if (confidence < 100):\n",
    "#             confidence = \"  {0}%\".format(round(100 - confidence))\n",
    "#             cv2.putText(img, 'Worst Match', (x, y-5), cv2.FONT_HERSHEY_TRIPLEX, 1, (255, 255, 255), 2)\n",
    "\n",
    "#         else:\n",
    "#             confidence = \"  {0}%\".format(round(100 - confidence))\n",
    "        \n",
    "#         cv2.putText(img, str(id), (x+5,y-5), cv2.FONT_HERSHEY_TRIPLEX, 1, (255,255,255), 2)\n",
    "#         cv2.putText(img, str(confidence), (x+5,y+h-5), cv2.FONT_HERSHEY_TRIPLEX, 1, (255,255,0), 1)  \n",
    "    \n",
    "# #     cv2.imshow('camera',img)\n",
    "#         plt.imshow(img)\n",
    "#         plt.axis('off')\n",
    "#         plt.show()\n",
    "\n",
    "#     k = cv2.waitKey(1) \n",
    "#     if k == 27:\n",
    "#         break\n",
    "        \n",
    "\n",
    "# # Do a bit of cleanup\n",
    "# print(\"\\n Exiting Program\")\n",
    "# cam.release()\n",
    "# cv2.destroyAllWindows()\n",
    "\n",
    "\n",
    "def detect_faces(image):\n",
    "    img = np.array(image.convert('RGB'))\n",
    "    gray = cv2.cvtColor(img, cv2.COLOR_BGR2GRAY)\n",
    "    # Detect faces\n",
    "    faces = face_cascade.detectMultiScale(gray, 1.1, 4)\n",
    "    # Draw rectangle around the faces\n",
    "    name='Unknown'\n",
    "    for (x, y, w, h) in faces:\n",
    "        # To draw a rectangle in a face\n",
    "        cv2.rectangle(img, (x, y), (x + w, y + h), (255, 255, 0), 2)\n",
    "        id, uncertainty = rec.predict(gray[y:y + h, x:x + w])\n",
    "        print(id, uncertainty)\n",
    "\n",
    "        if (uncertainty< 53):\n",
    "            if (id == 1 or id == 3 or id == 5):\n",
    "                name = \"Manasa\"\n",
    "                cv2.putText(img, name, (x, y + h), cv2.FONT_HERSHEY_COMPLEX_SMALL, 2.0, (0, 0, 255))\n",
    "        else:\n",
    "            cv2.putText(img, 'Unknown', (x, y + h), cv2.FONT_HERSHEY_COMPLEX_SMALL, 2.0, (0, 0, 255))\n",
    "\n",
    "\n",
    "    return img\n"
   ]
  },
  {
   "cell_type": "code",
   "execution_count": 7,
   "id": "af88b604",
   "metadata": {},
   "outputs": [],
   "source": [
    "def main():\n",
    "    \"\"\"Face Recognition App\"\"\"\n",
    "\n",
    "    st.title(\"Face Recognition App\")\n",
    "\n",
    "    html_temp = \"\"\"\n",
    "    <body style=\"background-color:red;\">\n",
    "    <div style=\"background-color:teal ;padding:10px\">\n",
    "    <h2 style=\"color:white;text-align:center;\">Face Recognition WebApp</h2>\n",
    "    </div>\n",
    "    </body>\n",
    "    \"\"\"\n",
    "    st.markdown(html_temp, unsafe_allow_html=True)\n",
    "\n",
    "    image_file = st.file_uploader(\"Upload Image\", type=['jpg', 'png', 'jpeg'])\n",
    "    if image_file is not None:\n",
    "        image = Image.open(image_file)\n",
    "        st.text(\"Original Image\")\n",
    "        st.image(our_image)\n",
    "\n",
    "    if st.button(\"Recognise\"):\n",
    "        result_img= detect_faces(our_image)\n",
    "        st.image(result_img)\n"
   ]
  },
  {
   "cell_type": "code",
   "execution_count": 8,
   "id": "0fbe68fd",
   "metadata": {},
   "outputs": [
    {
     "name": "stderr",
     "output_type": "stream",
     "text": [
      "2024-02-07 16:14:31.202 \n",
      "  \u001b[33m\u001b[1mWarning:\u001b[0m to view this Streamlit app on a browser, run it with the following\n",
      "  command:\n",
      "\n",
      "    streamlit run C:\\Users\\DELL\\anaconda\\lib\\site-packages\\ipykernel_launcher.py [ARGUMENTS]\n"
     ]
    }
   ],
   "source": [
    "if __name__ == '__main__':\n",
    "    main()"
   ]
  },
  {
   "cell_type": "code",
   "execution_count": null,
   "id": "a0e72bba",
   "metadata": {},
   "outputs": [],
   "source": []
  }
 ],
 "metadata": {
  "kernelspec": {
   "display_name": "Python 3 (ipykernel)",
   "language": "python",
   "name": "python3"
  },
  "language_info": {
   "codemirror_mode": {
    "name": "ipython",
    "version": 3
   },
   "file_extension": ".py",
   "mimetype": "text/x-python",
   "name": "python",
   "nbconvert_exporter": "python",
   "pygments_lexer": "ipython3",
   "version": "3.9.13"
  }
 },
 "nbformat": 4,
 "nbformat_minor": 5
}
